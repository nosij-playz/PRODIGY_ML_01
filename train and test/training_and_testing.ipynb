{
  "nbformat": 4,
  "nbformat_minor": 0,
  "metadata": {
    "colab": {
      "provenance": []
    },
    "kernelspec": {
      "name": "python3",
      "display_name": "Python 3"
    },
    "language_info": {
      "name": "python"
    }
  },
  "cells": [
    {
      "cell_type": "markdown",
      "source": [
        "data modification based on requirements"
      ],
      "metadata": {
        "id": "n3AGF9rll_j1"
      }
    },
    {
      "cell_type": "code",
      "execution_count": 131,
      "metadata": {
        "colab": {
          "base_uri": "https://localhost:8080/"
        },
        "id": "B0rAlbw3kSmF",
        "outputId": "8c74d475-e4c7-478d-9600-6fa9a800f1fa"
      },
      "outputs": [
        {
          "output_type": "stream",
          "name": "stdout",
          "text": [
            "Simplified CSV saved to simplified_data.csv\n"
          ]
        }
      ],
      "source": [
        "import pandas as pd\n",
        "\n",
        "def create_simplified_csv(input_csv_path, output_csv_path):\n",
        "    # Load original data\n",
        "    df = pd.read_csv(input_csv_path)\n",
        "\n",
        "    # Calculate TotalBathrooms\n",
        "    df['TotalBathrooms'] = (\n",
        "        df['FullBath'] + 0.5 * df['HalfBath'] +\n",
        "        df['BsmtFullBath'] + 0.5 * df['BsmtHalfBath']\n",
        "    )\n",
        "\n",
        "    # Select required columns\n",
        "    simplified_df = df[['GrLivArea', 'BedroomAbvGr', 'TotalBathrooms']]\n",
        "\n",
        "    # Drop rows with missing values in these columns (optional)\n",
        "    simplified_df = simplified_df.dropna()\n",
        "\n",
        "    # Save to new CSV\n",
        "    simplified_df.to_csv(output_csv_path, index=False)\n",
        "    print(f\"Simplified CSV saved to {output_csv_path}\")\n",
        "\n",
        "# Example usage\n",
        "input_path = '/content/test.csv'    # Change this to your CSV path\n",
        "output_path = 'simplified_data.csv'      # Desired output path\n",
        "\n",
        "create_simplified_csv(input_path, output_path)\n"
      ]
    },
    {
      "cell_type": "markdown",
      "source": [
        "smoting"
      ],
      "metadata": {
        "id": "au6gh8uzm8Wj"
      }
    },
    {
      "cell_type": "code",
      "source": [
        "import pandas as pd\n",
        "import numpy as np\n",
        "\n",
        "def augment_data(X, y, factor=10, noise_level=0.05, random_state=42):\n",
        "    \"\"\"\n",
        "    Augment data by creating synthetic samples by adding Gaussian noise to numeric features.\n",
        "    Args:\n",
        "        X (pd.DataFrame): Features dataframe.\n",
        "        y (pd.Series): Target values.\n",
        "        factor (int): How many times to increase dataset size (including original).\n",
        "        noise_level (float): Relative noise level (fraction of feature value).\n",
        "        random_state (int): For reproducibility.\n",
        "    Returns:\n",
        "        X_aug (pd.DataFrame), y_aug (pd.Series)\n",
        "    \"\"\"\n",
        "    np.random.seed(random_state)\n",
        "    n_samples = X.shape[0]\n",
        "    n_augmented = n_samples * (factor - 1)\n",
        "\n",
        "    synthetic_rows = []\n",
        "    synthetic_targets = []\n",
        "\n",
        "    numeric_cols = X.select_dtypes(include=[np.number]).columns.tolist()\n",
        "\n",
        "    for _ in range(n_augmented):\n",
        "        idx = np.random.randint(0, n_samples)\n",
        "        sample = X.iloc[idx].copy()\n",
        "        target = y.iloc[idx]\n",
        "\n",
        "        # Add noise to numeric features only\n",
        "        for col in numeric_cols:\n",
        "            val = sample[col]\n",
        "            if pd.notnull(val):\n",
        "                noise = np.random.normal(loc=0.0, scale=noise_level * max(abs(val), 1))\n",
        "                sample[col] = max(val + noise, 0)  # ensure no negative values\n",
        "\n",
        "        synthetic_rows.append(sample)\n",
        "        synthetic_targets.append(target)\n",
        "\n",
        "    X_synth = pd.DataFrame(synthetic_rows, columns=X.columns)\n",
        "    y_synth = pd.Series(synthetic_targets)\n",
        "\n",
        "    # Combine original + synthetic\n",
        "    X_aug = pd.concat([X, X_synth], ignore_index=True)\n",
        "    y_aug = pd.concat([y, y_synth], ignore_index=True)\n",
        "\n",
        "    return X_aug, y_aug\n",
        "\n",
        "\n",
        "def create_and_augment_csv(input_csv_path, output_csv_path):\n",
        "    # Load original data\n",
        "    df = pd.read_csv(input_csv_path)\n",
        "\n",
        "    # Calculate TotalBathrooms\n",
        "    df['TotalBathrooms'] = (\n",
        "        df['FullBath'] + 0.5 * df['HalfBath'] +\n",
        "        df['BsmtFullBath'] + 0.5 * df['BsmtHalfBath']\n",
        "    )\n",
        "\n",
        "    # Select required columns\n",
        "    simplified_df = df[['GrLivArea', 'BedroomAbvGr', 'TotalBathrooms', 'SalePrice']]\n",
        "\n",
        "    # Drop rows with missing values\n",
        "    simplified_df = simplified_df.dropna()\n",
        "\n",
        "    # Separate features and target\n",
        "    X = simplified_df.drop(columns=['SalePrice'])\n",
        "    y = simplified_df['SalePrice']\n",
        "\n",
        "    # Augment data 10x with noise_level 1%\n",
        "    X_aug, y_aug = augment_data(X, y, factor=3, noise_level=0.0001)\n",
        "\n",
        "    # Combine back to DataFrame\n",
        "    augmented_df = X_aug.copy()\n",
        "    augmented_df['SalePrice'] = y_aug\n",
        "\n",
        "    # Save to CSV\n",
        "    augmented_df.to_csv(output_csv_path, index=False)\n",
        "    print(f\"Augmented CSV saved to {output_csv_path}\")\n",
        "    print(f\"Original dataset size: {simplified_df.shape[0]}, Augmented dataset size: {augmented_df.shape[0]}\")\n",
        "\n",
        "# Example usage\n",
        "input_path = '/content/train.csv'  # Change to your CSV path\n",
        "output_path = 'augmented_simplified_data.csv'\n",
        "\n",
        "create_and_augment_csv(input_path, output_path)\n"
      ],
      "metadata": {
        "colab": {
          "base_uri": "https://localhost:8080/"
        },
        "id": "2413G_4Um7TL",
        "outputId": "e5344851-7d19-40e6-942e-cbe426f9cdfe"
      },
      "execution_count": 110,
      "outputs": [
        {
          "output_type": "stream",
          "name": "stdout",
          "text": [
            "Augmented CSV saved to augmented_simplified_data.csv\n",
            "Original dataset size: 1460, Augmented dataset size: 4380\n"
          ]
        }
      ]
    },
    {
      "cell_type": "markdown",
      "source": [
        "training section"
      ],
      "metadata": {
        "id": "FiwcK0QomFRz"
      }
    },
    {
      "cell_type": "markdown",
      "source": [
        "try 1"
      ],
      "metadata": {
        "id": "lY3iXsKT1zar"
      }
    },
    {
      "cell_type": "code",
      "source": [
        "import pandas as pd\n",
        "import numpy as np\n",
        "from sklearn.linear_model import LinearRegression\n",
        "from sklearn.model_selection import cross_val_score\n",
        "from sklearn.metrics import mean_squared_error\n",
        "\n",
        "# Load simplified dataset CSV\n",
        "data = pd.read_csv('/content/augmented_simplified_data.csv')  # Change path if needed\n",
        "\n",
        "# Features and target\n",
        "X = data[['GrLivArea', 'BedroomAbvGr', 'TotalBathrooms']]\n",
        "y = data['SalePrice']\n",
        "\n",
        "# Initialize Linear Regression model\n",
        "model = LinearRegression()\n",
        "\n",
        "# Cross-validation (5-fold) RMSE\n",
        "neg_mse_scores = cross_val_score(model, X, y, cv=5, scoring='neg_mean_squared_error')\n",
        "rmse_scores = np.sqrt(-neg_mse_scores)\n",
        "print(f'Cross-Validated RMSE: {rmse_scores.mean():.2f}')\n",
        "\n",
        "# Train final model on full dataset\n",
        "model.fit(X, y)\n",
        "\n",
        "# Predict on a new sample\n",
        "new_house = pd.DataFrame([{\n",
        "    'GrLivArea': 1500,\n",
        "    'BedroomAbvGr': 3,\n",
        "    'TotalBathrooms': 2.5  # example: 2 full baths + 1 half bath\n",
        "}])\n",
        "\n",
        "predicted_price = model.predict(new_house)[0]\n",
        "print(f'Predicted price for new house: ${predicted_price:,.2f}')\n"
      ],
      "metadata": {
        "colab": {
          "base_uri": "https://localhost:8080/"
        },
        "id": "7zUqNMCdlu9A",
        "outputId": "dee67fae-39a9-4ecd-a758-9797157ce51c"
      },
      "execution_count": 10,
      "outputs": [
        {
          "output_type": "stream",
          "name": "stdout",
          "text": [
            "Cross-Validated RMSE: 49801.06\n",
            "Predicted price for new house: $185,023.92\n"
          ]
        }
      ]
    },
    {
      "cell_type": "markdown",
      "source": [
        "try 2"
      ],
      "metadata": {
        "id": "dtO-cGY511R6"
      }
    },
    {
      "cell_type": "code",
      "source": [
        "import pandas as pd\n",
        "import numpy as np\n",
        "from sklearn.linear_model import LinearRegression\n",
        "from sklearn.model_selection import cross_val_score\n",
        "\n",
        "# Load the simplified dataset with pre-engineered TotalBathrooms\n",
        "data = pd.read_csv('/content/augmented_simplified_data.csv')  # path to your CSV\n",
        "\n",
        "# Example feature engineering: BathroomDensity = TotalBathrooms per 1000 sqft\n",
        "data['BathroomDensity'] = data['TotalBathrooms'] / (data['GrLivArea'] / 1000)\n",
        "\n",
        "# Features and target\n",
        "X = data[['GrLivArea', 'BedroomAbvGr', 'TotalBathrooms', 'BathroomDensity']]\n",
        "y = data['SalePrice']\n",
        "\n",
        "# Drop missing values if any\n",
        "Xy = pd.concat([X, y], axis=1).dropna()\n",
        "X = Xy.drop(columns=['SalePrice'])\n",
        "y = Xy['SalePrice']\n",
        "\n",
        "# Initialize model\n",
        "model = LinearRegression()\n",
        "\n",
        "# Cross-validation RMSE\n",
        "neg_mse_scores = cross_val_score(model, X, y, cv=5, scoring='neg_mean_squared_error')\n",
        "rmse_scores = np.sqrt(-neg_mse_scores)\n",
        "print(f'Cross-Validated RMSE: {rmse_scores.mean():.2f}')\n",
        "\n",
        "# Train final model\n",
        "model.fit(X, y)\n",
        "\n",
        "# Predict on a new sample with the new feature\n",
        "new_house = pd.DataFrame([{\n",
        "    'GrLivArea': 1500,\n",
        "    'BedroomAbvGr': 3,\n",
        "    'TotalBathrooms': 2.5,\n",
        "    'BathroomDensity': 2.5 / (1500 / 1000)  # = 2.5 / 1.5 = 1.6667\n",
        "}])\n",
        "\n",
        "predicted_price = model.predict(new_house)[0]\n",
        "print(f'Predicted price for new house: ${predicted_price:,.2f}')\n"
      ],
      "metadata": {
        "colab": {
          "base_uri": "https://localhost:8080/"
        },
        "id": "K6mE6Lj-mj9V",
        "outputId": "b135a611-07b5-492a-94ab-7eb5bca9f5a3"
      },
      "execution_count": 36,
      "outputs": [
        {
          "output_type": "stream",
          "name": "stdout",
          "text": [
            "Cross-Validated RMSE: 46457.25\n",
            "Predicted price for new house: $186,562.76\n"
          ]
        }
      ]
    },
    {
      "cell_type": "markdown",
      "source": [
        "parameter tuning"
      ],
      "metadata": {
        "id": "6M3YociY14qK"
      }
    },
    {
      "cell_type": "code",
      "source": [],
      "metadata": {
        "id": "hG-trwQa16a5"
      },
      "execution_count": null,
      "outputs": []
    },
    {
      "cell_type": "code",
      "source": [
        "import pandas as pd\n",
        "import numpy as np\n",
        "from sklearn.linear_model import Ridge\n",
        "from sklearn.model_selection import GridSearchCV\n",
        "\n",
        "# Load the simplified dataset with pre-engineered TotalBathrooms\n",
        "data = pd.read_csv('/content/augmented_simplified_data.csv')  # path to your CSV\n",
        "\n",
        "# Feature engineering: BathroomDensity = TotalBathrooms per 1000 sqft\n",
        "data['BathroomDensity'] = data['TotalBathrooms'] / (data['GrLivArea'] / 1000)\n",
        "\n",
        "# Features and target\n",
        "X = data[['GrLivArea', 'BedroomAbvGr', 'TotalBathrooms', 'BathroomDensity']]\n",
        "y = data['SalePrice']\n",
        "\n",
        "# Drop missing values if any\n",
        "Xy = pd.concat([X, y], axis=1).dropna()\n",
        "X = Xy.drop(columns=['SalePrice'])\n",
        "y = Xy['SalePrice']\n",
        "\n",
        "# Define Ridge regression model\n",
        "ridge = Ridge()\n",
        "\n",
        "# Parameter grid for alpha\n",
        "param_grid = {'alpha': [0.001, 0.01, 0.1, 1, 10, 100]}\n",
        "\n",
        "# Setup GridSearchCV\n",
        "grid_search = GridSearchCV(ridge, param_grid, cv=5, scoring='neg_mean_squared_error')\n",
        "grid_search.fit(X, y)\n",
        "\n",
        "print(f\"Best alpha: {grid_search.best_params_['alpha']}\")\n",
        "\n",
        "# Best model\n",
        "best_model = grid_search.best_estimator_\n",
        "\n",
        "# Cross-validated RMSE for best model\n",
        "rmse_scores = (-grid_search.cv_results_['mean_test_score'])**0.5\n",
        "print(f\"Grid Search RMSEs: {rmse_scores}\")\n",
        "\n",
        "print(f'Cross-Validated RMSE of best model: {rmse_scores[grid_search.best_index_]:.2f}')\n",
        "\n",
        "# Train best model on full data\n",
        "best_model.fit(X, y)\n",
        "\n",
        "# Predict on new sample\n",
        "new_house = pd.DataFrame([{\n",
        "    'GrLivArea': 1500,\n",
        "    'BedroomAbvGr': 3,\n",
        "    'TotalBathrooms': 2.5,\n",
        "    'BathroomDensity': 2.5 / (1500 / 1000)\n",
        "}])\n",
        "\n",
        "predicted_price = best_model.predict(new_house)[0]\n",
        "print(f'Predicted price for new house: ${predicted_price:,.2f}')\n"
      ],
      "metadata": {
        "colab": {
          "base_uri": "https://localhost:8080/"
        },
        "id": "8-YC4Wodorai",
        "outputId": "5f696095-32db-464a-ef17-bd3099ab46b8"
      },
      "execution_count": 37,
      "outputs": [
        {
          "output_type": "stream",
          "name": "stdout",
          "text": [
            "Best alpha: 0.1\n",
            "Grid Search RMSEs: [46550.41186215 46550.40864544 46550.38071424 46550.50740727\n",
            " 46579.20811409 47025.1405305 ]\n",
            "Cross-Validated RMSE of best model: 46550.38\n",
            "Predicted price for new house: $186,556.24\n"
          ]
        }
      ]
    },
    {
      "cell_type": "markdown",
      "source": [
        "multi model try"
      ],
      "metadata": {
        "id": "mK8702F31_EZ"
      }
    },
    {
      "cell_type": "code",
      "source": [
        "import pandas as pd\n",
        "import numpy as np\n",
        "from sklearn.linear_model import Ridge\n",
        "from sklearn.metrics import mean_squared_error\n",
        "from sklearn.model_selection import train_test_split\n",
        "\n",
        "# Load data\n",
        "data = pd.read_csv('/content/augmented_simplified_data.csv')\n",
        "\n",
        "# Feature engineering\n",
        "data['BathroomDensity'] = data['TotalBathrooms'] / (data['GrLivArea'] / 1000)\n",
        "\n",
        "# Drop missing values\n",
        "data = data.dropna(subset=['GrLivArea', 'BedroomAbvGr', 'TotalBathrooms', 'BathroomDensity', 'SalePrice'])\n",
        "\n",
        "# Define features and target\n",
        "X1 = data[['GrLivArea', 'BedroomAbvGr']]\n",
        "X2 = data[['TotalBathrooms', 'BathroomDensity']]\n",
        "y = data['SalePrice']\n",
        "\n",
        "# Train-test split 80/20\n",
        "X1_train, X1_test, X2_train, X2_test, y_train, y_test = train_test_split(\n",
        "    X1, X2, y, test_size=0.2, random_state=42)\n",
        "\n",
        "# Initialize models\n",
        "model1 = Ridge(alpha=1.0)\n",
        "model2 = Ridge(alpha=1.0)\n",
        "\n",
        "# Train models on training data\n",
        "model1.fit(X1_train, y_train)\n",
        "model2.fit(X2_train, y_train)\n",
        "\n",
        "# Predict on test data\n",
        "preds1 = model1.predict(X1_test)\n",
        "preds2 = model2.predict(X2_test)\n",
        "\n",
        "# Combined predictions by averaging\n",
        "combined_preds = (preds1 + preds2) / 2\n",
        "\n",
        "# Calculate RMSE for test data\n",
        "rmse1 = mean_squared_error(y_test, preds1)\n",
        "rmse2 = mean_squared_error(y_test, preds2)\n",
        "rmse_combined = mean_squared_error(y_test, combined_preds)\n",
        "\n",
        "print(f\"Test RMSE Model1 (GrLivArea, BedroomAbvGr): {rmse1:.2f}\")\n",
        "print(f\"Test RMSE Model2 (TotalBathrooms, BathroomDensity): {rmse2:.2f}\")\n",
        "print(f\"Test RMSE Combined Model (average): {rmse_combined:.2f}\")\n",
        "\n",
        "# Predict on a new sample\n",
        "new_house = pd.DataFrame([{\n",
        "    'GrLivArea': 1500,\n",
        "    'BedroomAbvGr': 3,\n",
        "    'TotalBathrooms': 2.5,\n",
        "    'BathroomDensity': 2.5 / (1500 / 1000)\n",
        "}])\n",
        "\n",
        "pred1 = model1.predict(new_house[['GrLivArea', 'BedroomAbvGr']])[0]\n",
        "pred2 = model2.predict(new_house[['TotalBathrooms', 'BathroomDensity']])[0]\n",
        "final_pred = (pred1 + pred2) / 2\n",
        "\n",
        "print(f\"\\nPrediction on new house:\")\n",
        "print(f\"Model1 prediction: ${pred1:,.2f}\")\n",
        "print(f\"Model2 prediction: ${pred2:,.2f}\")\n",
        "print(f\"Final averaged prediction: ${final_pred:,.2f}\")\n"
      ],
      "metadata": {
        "colab": {
          "base_uri": "https://localhost:8080/"
        },
        "id": "KwWc4hV8o8kS",
        "outputId": "95085704-cea3-40d5-ee1d-29c683602c3a"
      },
      "execution_count": 41,
      "outputs": [
        {
          "output_type": "stream",
          "name": "stdout",
          "text": [
            "Test RMSE Model1 (GrLivArea, BedroomAbvGr): 2165391366.67\n",
            "Test RMSE Model2 (TotalBathrooms, BathroomDensity): 2378146336.36\n",
            "Test RMSE Combined Model (average): 2070130902.37\n",
            "\n",
            "Prediction on new house:\n",
            "Model1 prediction: $175,311.52\n",
            "Model2 prediction: $193,876.63\n",
            "Final averaged prediction: $184,594.08\n"
          ]
        }
      ]
    },
    {
      "cell_type": "markdown",
      "source": [
        "new try"
      ],
      "metadata": {
        "id": "RP0l4eb92C46"
      }
    },
    {
      "cell_type": "code",
      "source": [
        "import pandas as pd\n",
        "from sklearn.linear_model import LinearRegression\n",
        "from sklearn.model_selection import train_test_split\n",
        "from sklearn.metrics import mean_squared_error\n",
        "\n",
        "# Load the CSV file (replace with your actual file path)\n",
        "csv_file_path = \"/content/augmented_simplified_data.csv\"\n",
        "df = pd.read_csv(csv_file_path)\n",
        "\n",
        "# Define features and target\n",
        "X = df[[\"GrLivArea\", \"BedroomAbvGr\", \"TotalBathrooms\"]]\n",
        "y = df[\"SalePrice\"]\n",
        "\n",
        "# Split data (80% training, 20% testing)\n",
        "X_train, X_test, y_train, y_test = train_test_split(X, y, test_size=0.2, random_state=42)\n",
        "\n",
        "# Create and train the model\n",
        "model = LinearRegression()\n",
        "model.fit(X_train, y_train)\n",
        "\n",
        "# Predict on test data\n",
        "y_pred = model.predict(X_test)\n",
        "\n",
        "# Evaluate model\n",
        "mse = mean_squared_error(y_test, y_pred)\n",
        "print(\"Mean Squared Error:\", mse)\n",
        "\n",
        "# Optional: print model coefficients\n",
        "print(\"Coefficients:\", model.coef_)\n",
        "print(\"Intercept:\", model.intercept_)\n"
      ],
      "metadata": {
        "colab": {
          "base_uri": "https://localhost:8080/"
        },
        "id": "DK049O2FuG-z",
        "outputId": "49ba60f6-2b09-4320-bd07-2e98b85b6243"
      },
      "execution_count": 69,
      "outputs": [
        {
          "output_type": "stream",
          "name": "stdout",
          "text": [
            "Mean Squared Error: 1881513831.2312655\n",
            "Coefficients: [    94.37963102 -21825.47571341  30158.57399427]\n",
            "Intercept: 33455.71940686804\n"
          ]
        }
      ]
    },
    {
      "cell_type": "markdown",
      "source": [
        "parameter tuning"
      ],
      "metadata": {
        "id": "27uwgVKg2G55"
      }
    },
    {
      "cell_type": "code",
      "source": [
        "import pandas as pd\n",
        "from sklearn.linear_model import Ridge\n",
        "from sklearn.model_selection import train_test_split, GridSearchCV\n",
        "from sklearn.metrics import mean_squared_error\n",
        "\n",
        "# Load data\n",
        "csv_file_path = \"/content/augmented_simplified_data.csv\"\n",
        "df = pd.read_csv(csv_file_path)\n",
        "\n",
        "X = df[[\"GrLivArea\", \"BedroomAbvGr\", \"TotalBathrooms\"]]\n",
        "y = df[\"SalePrice\"]\n",
        "\n",
        "X_train, X_test, y_train, y_test = train_test_split(X, y, test_size=0.2, random_state=42)\n",
        "\n",
        "# Define Ridge model\n",
        "ridge = Ridge()\n",
        "\n",
        "# Define hyperparameter grid for alpha (regularization strength)\n",
        "param_grid = {\n",
        "    'alpha': [0.1, 1.0, 10.0, 50.0, 100.0, 200.0]\n",
        "}\n",
        "\n",
        "# Set up GridSearchCV to find best alpha\n",
        "grid_search = GridSearchCV(ridge, param_grid, cv=5, scoring='neg_mean_squared_error')\n",
        "\n",
        "# Fit grid search on training data\n",
        "grid_search.fit(X_train, y_train)\n",
        "\n",
        "# Best model after tuning\n",
        "best_ridge = grid_search.best_estimator_\n",
        "\n",
        "# Predict and evaluate on test data\n",
        "y_pred = best_ridge.predict(X_test)\n",
        "mse = mean_squared_error(y_test, y_pred)\n",
        "\n",
        "print(\"Best alpha:\", grid_search.best_params_['alpha'])\n",
        "print(\"Mean Squared Error (test):\", mse)\n",
        "print(\"Coefficients:\", best_ridge.coef_)\n",
        "print(\"Intercept:\", best_ridge.intercept_)\n",
        "\n",
        "# R^2 score as accuracy percentage\n",
        "r2 = best_ridge.score(X_test, y_test)\n",
        "print(f\"R^2 Score: {r2:.4f} ({r2*100:.2f}%)\")\n"
      ],
      "metadata": {
        "colab": {
          "base_uri": "https://localhost:8080/"
        },
        "id": "g3PmwLWYuq6p",
        "outputId": "6fe17778-ac1f-4bce-ecc3-4a08db7e7463"
      },
      "execution_count": 126,
      "outputs": [
        {
          "output_type": "stream",
          "name": "stdout",
          "text": [
            "Best alpha: 0.1\n",
            "Mean Squared Error (test): 2382486486.940036\n",
            "Coefficients: [   100.70530626 -23227.16147906  30096.81061372]\n",
            "Intercept: 28630.750532433536\n",
            "R^2 Score: 0.6108 (61.08%)\n"
          ]
        }
      ]
    },
    {
      "cell_type": "code",
      "source": [
        "import pandas as pd\n",
        "from sklearn.model_selection import train_test_split, GridSearchCV\n",
        "from sklearn.pipeline import Pipeline\n",
        "from sklearn.preprocessing import StandardScaler, PolynomialFeatures\n",
        "from sklearn.linear_model import ElasticNet\n",
        "from sklearn.metrics import mean_squared_error\n",
        "\n",
        "# Load data\n",
        "csv_file_path = \"/content/augmented_simplified_data.csv\"\n",
        "df = pd.read_csv(csv_file_path)\n",
        "\n",
        "X = df[[\"GrLivArea\", \"BedroomAbvGr\", \"TotalBathrooms\"]]\n",
        "y = df[\"SalePrice\"]\n",
        "\n",
        "X_train, X_test, y_train, y_test = train_test_split(X, y, test_size=0.2, random_state=42)\n",
        "\n",
        "# Define pipeline steps:\n",
        "# 1. Scale features\n",
        "# 2. Generate polynomial features (degree 2)\n",
        "# 3. ElasticNet regression model\n",
        "pipeline = Pipeline([\n",
        "    ('scaler', StandardScaler()),\n",
        "    ('poly', PolynomialFeatures(degree=2, include_bias=False)),\n",
        "    ('elasticnet', ElasticNet(max_iter=10000))\n",
        "])\n",
        "\n",
        "# Hyperparameter grid to tune alpha (regularization) and l1_ratio (L1 vs L2 mixing)\n",
        "param_grid = {\n",
        "    'elasticnet__alpha': [0.01, 0.1, 1, 10, 100],\n",
        "    'elasticnet__l1_ratio': [0.1, 0.5, 0.7, 0.9, 1]  # 1 = Lasso, 0 = Ridge\n",
        "}\n",
        "\n",
        "# Setup GridSearchCV with 5-fold CV\n",
        "grid_search = GridSearchCV(pipeline, param_grid, cv=5, scoring='neg_mean_squared_error', n_jobs=-1)\n",
        "\n",
        "# Fit grid search on training data\n",
        "grid_search.fit(X_train, y_train)\n",
        "\n",
        "# Best model\n",
        "best_model = grid_search.best_estimator_\n",
        "\n",
        "# Predict and evaluate on test set\n",
        "y_pred = best_model.predict(X_test)\n",
        "mse = mean_squared_error(y_test, y_pred)\n",
        "r2 = best_model.score(X_test, y_test)\n",
        "\n",
        "print(\"Best hyperparameters:\", grid_search.best_params_)\n",
        "print(f\"Test Mean Squared Error: {mse:.2f}\")\n",
        "print(f\"Test R^2 Score: {r2:.4f} ({r2*100:.2f}%)\")\n"
      ],
      "metadata": {
        "colab": {
          "base_uri": "https://localhost:8080/"
        },
        "id": "Yxx64FCQu1Ua",
        "outputId": "8791d346-7933-4e3d-a6ff-31e89a89c55d"
      },
      "execution_count": 75,
      "outputs": [
        {
          "output_type": "stream",
          "name": "stdout",
          "text": [
            "Best hyperparameters: {'elasticnet__alpha': 0.1, 'elasticnet__l1_ratio': 0.7}\n",
            "Test Mean Squared Error: 1891961572.06\n",
            "Test R^2 Score: 0.6638 (66.38%)\n"
          ]
        }
      ]
    },
    {
      "cell_type": "markdown",
      "source": [
        "polynomial featuring\n"
      ],
      "metadata": {
        "id": "Xgm2VNEr2Mhx"
      }
    },
    {
      "cell_type": "code",
      "source": [
        "import pandas as pd\n",
        "from sklearn.model_selection import train_test_split\n",
        "from sklearn.pipeline import Pipeline\n",
        "from sklearn.preprocessing import PolynomialFeatures, StandardScaler\n",
        "from sklearn.linear_model import Ridge\n",
        "from sklearn.metrics import mean_squared_error\n",
        "\n",
        "# Load data\n",
        "csv_file_path = \"/content/augmented_simplified_data.csv\"\n",
        "df = pd.read_csv(csv_file_path)\n",
        "\n",
        "X = df[[\"GrLivArea\", \"BedroomAbvGr\", \"TotalBathrooms\"]]\n",
        "y = df[\"SalePrice\"]\n",
        "\n",
        "X_train, X_test, y_train, y_test = train_test_split(X, y, test_size=0.2, random_state=42)\n",
        "\n",
        "# Create a pipeline: scaling -> polynomial features -> ridge regression\n",
        "pipeline = Pipeline([\n",
        "    ('scaler', StandardScaler()),\n",
        "    ('poly', PolynomialFeatures(degree=4, include_bias=False)),\n",
        "    ('ridge', Ridge(alpha=1.0))\n",
        "])\n",
        "\n",
        "# Train the model\n",
        "pipeline.fit(X_train, y_train)\n",
        "\n",
        "# Predict on test data\n",
        "y_pred = pipeline.predict(X_test)\n",
        "\n",
        "# Evaluate\n",
        "mse = mean_squared_error(y_test, y_pred)\n",
        "r2 = pipeline.score(X_test, y_test)\n",
        "\n",
        "print(\"Mean Squared Error:\", mse)\n",
        "print(f\"R^2 Score: {r2:.4f} ({r2*100:.2f}%)\")\n"
      ],
      "metadata": {
        "colab": {
          "base_uri": "https://localhost:8080/"
        },
        "id": "MqsnMoWsvebq",
        "outputId": "34ff43fb-6537-4ec2-e9bd-044e1586e1d9"
      },
      "execution_count": 92,
      "outputs": [
        {
          "output_type": "stream",
          "name": "stdout",
          "text": [
            "Mean Squared Error: 1540399180.5147827\n",
            "R^2 Score: 0.7262 (72.62%)\n"
          ]
        }
      ]
    },
    {
      "cell_type": "markdown",
      "source": [
        "best params"
      ],
      "metadata": {
        "id": "JWhvfaSi2RGQ"
      }
    },
    {
      "cell_type": "code",
      "source": [
        "import pandas as pd\n",
        "from sklearn.model_selection import train_test_split, GridSearchCV\n",
        "from sklearn.pipeline import Pipeline\n",
        "from sklearn.preprocessing import StandardScaler, PolynomialFeatures\n",
        "from sklearn.linear_model import Ridge\n",
        "from sklearn.metrics import mean_squared_error\n",
        "\n",
        "# Load data\n",
        "csv_file_path = \"/content/augmented_simplified_data.csv\"\n",
        "df = pd.read_csv(csv_file_path)\n",
        "\n",
        "# Select features and target\n",
        "X = df[[\"GrLivArea\", \"BedroomAbvGr\", \"TotalBathrooms\"]]\n",
        "y = df[\"SalePrice\"]\n",
        "\n",
        "# Split dataset\n",
        "X_train, X_test, y_train, y_test = train_test_split(X, y, test_size=0.2, random_state=42)\n",
        "\n",
        "# Build pipeline\n",
        "pipeline = Pipeline([\n",
        "    ('scaler', StandardScaler()),\n",
        "    ('poly', PolynomialFeatures(degree=4, include_bias=False)),\n",
        "    ('ridge', Ridge())\n",
        "])\n",
        "\n",
        "# Hyperparameter grid for tuning alpha\n",
        "param_grid = {\n",
        "    'ridge__alpha': [0.01, 0.1, 1, 10, 100]\n",
        "}\n",
        "\n",
        "# Grid search with 5-fold CV\n",
        "grid_search = GridSearchCV(pipeline, param_grid, cv=5, scoring='neg_mean_squared_error', n_jobs=-1)\n",
        "\n",
        "# Train model and find best hyperparameters\n",
        "grid_search.fit(X_train, y_train)\n",
        "\n",
        "# Best model\n",
        "best_model = grid_search.best_estimator_\n",
        "\n",
        "# Predict and evaluate\n",
        "y_pred = best_model.predict(X_test)\n",
        "mse = mean_squared_error(y_test, y_pred)\n",
        "r2 = best_model.score(X_test, y_test)\n",
        "\n",
        "print(\"Best alpha:\", grid_search.best_params_['ridge__alpha'])\n",
        "print(\"Test Mean Squared Error:\", mse)\n",
        "print(f\"Test R^2 Score: {r2:.4f} ({r2*100:.2f}%)\")\n"
      ],
      "metadata": {
        "colab": {
          "base_uri": "https://localhost:8080/"
        },
        "id": "yjsOiR_0wzMm",
        "outputId": "66c4b80b-e2e8-402a-b176-25c3f6c31c5a"
      },
      "execution_count": 93,
      "outputs": [
        {
          "output_type": "stream",
          "name": "stdout",
          "text": [
            "Best alpha: 0.01\n",
            "Test Mean Squared Error: 1540436914.853093\n",
            "Test R^2 Score: 0.7262 (72.62%)\n"
          ]
        }
      ]
    },
    {
      "cell_type": "code",
      "source": [
        "import pandas as pd\n",
        "from sklearn.model_selection import train_test_split\n",
        "from sklearn.pipeline import Pipeline\n",
        "from sklearn.preprocessing import StandardScaler, PolynomialFeatures\n",
        "from sklearn.linear_model import Ridge\n",
        "from sklearn.metrics import mean_squared_error\n",
        "\n",
        "# Load data\n",
        "csv_file_path = \"/content/augmented_simplified_data.csv\"\n",
        "df = pd.read_csv(csv_file_path)\n",
        "\n",
        "# Features and target\n",
        "X = df[[\"GrLivArea\", \"BedroomAbvGr\", \"TotalBathrooms\"]]\n",
        "y = df[\"SalePrice\"]\n",
        "\n",
        "X_train, X_test, y_train, y_test = train_test_split(X, y, test_size=0.2, random_state=42)\n",
        "\n",
        "# Pipeline with locked alpha\n",
        "pipeline = Pipeline([\n",
        "    ('scaler', StandardScaler()),\n",
        "    ('poly', PolynomialFeatures(degree=4, include_bias=False)),\n",
        "    ('ridge', Ridge(alpha=0.01))\n",
        "])\n",
        "\n",
        "# Train model\n",
        "pipeline.fit(X_train, y_train)\n",
        "\n",
        "# Predict and evaluate\n",
        "y_pred = pipeline.predict(X_test)\n",
        "mse = mean_squared_error(y_test, y_pred)\n",
        "r2 = pipeline.score(X_test, y_test)\n",
        "\n",
        "print(\"Locked alpha: 0.01\")\n",
        "print(\"Test Mean Squared Error:\", mse)\n",
        "print(f\"Test R^2 Score: {r2:.4f} ({r2*100:.2f}%)\")\n"
      ],
      "metadata": {
        "colab": {
          "base_uri": "https://localhost:8080/"
        },
        "id": "Ov_D9488w-p5",
        "outputId": "87354244-ea9e-47fd-e4bb-1d315e954db3"
      },
      "execution_count": 124,
      "outputs": [
        {
          "output_type": "stream",
          "name": "stdout",
          "text": [
            "Locked alpha: 0.01\n",
            "Test Mean Squared Error: 1637486086.594804\n",
            "Test R^2 Score: 0.7325 (73.25%)\n"
          ]
        }
      ]
    },
    {
      "cell_type": "code",
      "source": [
        "import joblib\n",
        "\n",
        "# After training the model (e.g., `model`), and scaler `scaler`\n",
        "\n",
        "# Save scaler and model separately or as a pipeline\n",
        "# Here we save them together as a pipeline for convenience\n",
        "\n",
        "from sklearn.pipeline import Pipeline\n",
        "\n",
        "pipeline = Pipeline([\n",
        "    ('scaler', scaler),\n",
        "    ('ridge', model)\n",
        "])\n",
        "\n",
        "# Save the pipeline to disk\n",
        "joblib.dump(pipeline, 'ridge_poly_model.pkl')\n",
        "print(\"Model pipeline saved to ridge_poly_model.pkl\")\n"
      ],
      "metadata": {
        "colab": {
          "base_uri": "https://localhost:8080/"
        },
        "id": "Yf2__v9_0Dai",
        "outputId": "b68bdfc9-9c2b-4330-b5f9-d40045580853"
      },
      "execution_count": 127,
      "outputs": [
        {
          "output_type": "stream",
          "name": "stdout",
          "text": [
            "Model pipeline saved to ridge_poly_model.pkl\n"
          ]
        }
      ]
    },
    {
      "cell_type": "markdown",
      "source": [
        "test section"
      ],
      "metadata": {
        "id": "1ZuW2O_f2VsJ"
      }
    },
    {
      "cell_type": "code",
      "source": [
        "import joblib\n",
        "import pandas as pd\n",
        "\n",
        "# Load the saved pipeline\n",
        "pipeline = joblib.load('ridge_poly_model.pkl')\n",
        "\n",
        "# Example manual input (replace values as needed)\n",
        "# Input features must match original features before polynomial expansion\n",
        "\n",
        "input_data = {\n",
        "    \"GrLivArea\": [1500],\n",
        "    \"BedroomAbvGr\": [3],\n",
        "    \"TotalBathrooms\": [2.5]\n",
        "}\n",
        "\n",
        "# Create DataFrame\n",
        "input_df = pd.DataFrame(input_data)\n",
        "\n",
        "# IMPORTANT: We must create the same polynomial features manually as in training\n",
        "\n",
        "def create_poly_features(X, degree=4):\n",
        "    import numpy as np\n",
        "    from itertools import combinations_with_replacement\n",
        "\n",
        "    X_poly = pd.DataFrame(index=X.index)\n",
        "    feature_names = X.columns.tolist()\n",
        "\n",
        "    # Degree 1\n",
        "    for col in feature_names:\n",
        "        X_poly[col] = X[col]\n",
        "\n",
        "    # Degree 2 to degree 4\n",
        "    for deg in range(2, degree+1):\n",
        "        combos = combinations_with_replacement(feature_names, deg)\n",
        "        for combo in combos:\n",
        "            col_name = \"_\".join(combo)\n",
        "            product = np.ones(len(X))\n",
        "            for c in combo:\n",
        "                product *= X[c]\n",
        "            X_poly[col_name] = product\n",
        "    return X_poly\n",
        "\n",
        "# Create polynomial features for input\n",
        "input_poly = create_poly_features(input_df, degree=4)\n",
        "\n",
        "# Predict using loaded pipeline\n",
        "predicted_price = pipeline.predict(input_poly)\n",
        "\n",
        "print(f\"Predicted SalePrice: {predicted_price[0]:.2f}\")\n"
      ],
      "metadata": {
        "colab": {
          "base_uri": "https://localhost:8080/"
        },
        "id": "-D8Uz1RO2d7B",
        "outputId": "35b4f4af-7013-4f35-ccba-0e723f91eef7"
      },
      "execution_count": 135,
      "outputs": [
        {
          "output_type": "stream",
          "name": "stdout",
          "text": [
            "Predicted SalePrice: 183329.61\n"
          ]
        }
      ]
    },
    {
      "cell_type": "markdown",
      "source": [
        "moduling"
      ],
      "metadata": {
        "id": "76rJ7-vP2k1h"
      }
    },
    {
      "cell_type": "code",
      "source": [
        "import joblib\n",
        "import pandas as pd\n",
        "import numpy as np\n",
        "from itertools import combinations_with_replacement\n",
        "\n",
        "class HousePricePredictor:\n",
        "    def __init__(self, model_path='/content/linear_house.pkl', degree=4):\n",
        "        # Load saved pipeline (scaler + model)\n",
        "        self.pipeline = joblib.load(model_path)\n",
        "        self.degree = degree\n",
        "\n",
        "    def create_poly_features(self, X):\n",
        "        feature_names = X.columns.tolist()\n",
        "        X_poly = pd.DataFrame(index=X.index)\n",
        "\n",
        "        # Degree 1 (original features)\n",
        "        for col in feature_names:\n",
        "            X_poly[col] = X[col]\n",
        "\n",
        "        # Higher degrees\n",
        "        for deg in range(2, self.degree + 1):\n",
        "            combos = combinations_with_replacement(feature_names, deg)\n",
        "            for combo in combos:\n",
        "                col_name = \"_\".join(combo)\n",
        "                product = np.ones(len(X))\n",
        "                for c in combo:\n",
        "                    product *= X[c]\n",
        "                X_poly[col_name] = product\n",
        "\n",
        "        return X_poly\n",
        "\n",
        "    def predict(self, GrLivArea, BedroomAbvGr, TotalBathrooms):\n",
        "        input_data = {\n",
        "            \"GrLivArea\": [GrLivArea],\n",
        "            \"BedroomAbvGr\": [BedroomAbvGr],\n",
        "            \"TotalBathrooms\": [TotalBathrooms]\n",
        "        }\n",
        "        input_df = pd.DataFrame(input_data)\n",
        "        input_poly = self.create_poly_features(input_df)\n",
        "        predicted_price = self.pipeline.predict(input_poly)\n",
        "        return predicted_price[0]\n"
      ],
      "metadata": {
        "id": "oxkNZRPu0G4r"
      },
      "execution_count": 136,
      "outputs": []
    },
    {
      "cell_type": "code",
      "source": [
        "predictor = HousePricePredictor()\n",
        "\n",
        "price = predictor.predict(1280, 2, 2.0)\n",
        "print(f\"Predicted SalePrice: {price:.2f}\")\n"
      ],
      "metadata": {
        "colab": {
          "base_uri": "https://localhost:8080/"
        },
        "id": "Fzhs1pNS0rhZ",
        "outputId": "1b6da244-b264-4bfd-c2f5-b937075a2289"
      },
      "execution_count": 137,
      "outputs": [
        {
          "output_type": "stream",
          "name": "stdout",
          "text": [
            "Predicted SalePrice: 165029.36\n"
          ]
        }
      ]
    }
  ]
}